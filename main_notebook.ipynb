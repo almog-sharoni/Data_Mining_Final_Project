{
 "cells": [
  {
   "cell_type": "markdown",
   "source": [
    "0. installing the libraries"
   ],
   "metadata": {
    "collapsed": false
   },
   "id": "925d7e6529ebae28"
  },
  {
   "cell_type": "code",
   "outputs": [],
   "source": [
    "!pip install -r requirements.txt"
   ],
   "metadata": {
    "collapsed": false,
    "is_executing": true
   },
   "id": "b1f4ffdeea78e516"
  },
  {
   "cell_type": "markdown",
   "source": [
    "1. Importing the libraries"
   ],
   "metadata": {
    "collapsed": false
   },
   "id": "d0d401fbea4a6e0d"
  },
  {
   "cell_type": "code",
   "execution_count": null,
   "id": "initial_id",
   "metadata": {
    "collapsed": true,
    "is_executing": true
   },
   "outputs": [],
   "source": [
    "import numpy as np\n",
    "import matplotlib.pyplot as plt\n",
    "import pandas as pd\n",
    "import seaborn as sns"
   ]
  },
  {
   "cell_type": "markdown",
   "source": [
    "2. Importing the dataset"
   ],
   "metadata": {
    "collapsed": false
   },
   "id": "c996912ab43b767f"
  },
  {
   "cell_type": "markdown",
   "source": [],
   "metadata": {
    "collapsed": false
   },
   "id": "2ec3cc1c90232eeb"
  },
  {
   "cell_type": "code",
   "outputs": [],
   "source": [
    "df = pd.read_csv('hotels_train.csv')"
   ],
   "metadata": {
    "collapsed": false
   },
   "id": "8611d9fc78bcf3d2"
  }
 ],
 "metadata": {
  "kernelspec": {
   "display_name": "Python 3",
   "language": "python",
   "name": "python3"
  },
  "language_info": {
   "codemirror_mode": {
    "name": "ipython",
    "version": 2
   },
   "file_extension": ".py",
   "mimetype": "text/x-python",
   "name": "python",
   "nbconvert_exporter": "python",
   "pygments_lexer": "ipython2",
   "version": "2.7.6"
  }
 },
 "nbformat": 4,
 "nbformat_minor": 5
}
